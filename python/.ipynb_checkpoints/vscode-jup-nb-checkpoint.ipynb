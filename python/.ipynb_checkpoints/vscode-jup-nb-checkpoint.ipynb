{
 "cells": [
  {
   "cell_type": "code",
   "execution_count": null,
   "metadata": {},
   "outputs": [],
   "source": [
    "import pandas as pd\n",
    "import numpy as np\n",
    "\n",
    "# shift + enter <-- goes to next frame or creates a new frame\n",
    "# ctrl + enter <-- executes frame"
   ]
  },
  {
   "cell_type": "code",
   "execution_count": null,
   "metadata": {
    "tags": []
   },
   "outputs": [],
   "source": [
    "a = 1\n",
    "print(a)"
   ]
  },
  {
   "cell_type": "code",
   "execution_count": null,
   "metadata": {
    "tags": []
   },
   "outputs": [],
   "source": [
    "# 1. create and print a pandas data series\n",
    "\n",
    "ds = pd.Series([2,4,6,8,10])\n",
    "print(ds)\n",
    "print(type(ds))\n",
    "print(ds.tolist())\n",
    "print(type(ds.tolist()))"
   ]
  },
  {
   "cell_type": "code",
   "execution_count": null,
   "metadata": {
    "tags": []
   },
   "outputs": [],
   "source": [
    "# 2. Write a Pandas program to convert a Panda module Series to Python list and it’s type\n",
    "\n",
    "## import pandas as pd\n",
    "\n",
    "ds2 = pd.Series([2,4,6,8,10])\n",
    "print(\"Pandas Series and type\")\n",
    "print(ds2)\n",
    "print(type(ds2))\n",
    "\n",
    "print(\"Convert Pandas Series to Python list\")\n",
    "print(ds2.tolist())\n",
    "print(type(ds2.tolist()))\n"
   ]
  },
  {
   "cell_type": "code",
   "execution_count": null,
   "metadata": {
    "tags": []
   },
   "outputs": [],
   "source": [
    "# Write a Pandas program to add, subtract, multiple and divide two Pandas Series.\n",
    "\n",
    "ds1 = pd.Series([2,4,6,8])\n",
    "ds2 = pd.Series([1,3,5,7])\n",
    "\n",
    "dsAdd = ds1 + ds2\n",
    "dsSubtract = ds1 - ds2\n",
    "dsMultiply = ds1 * ds2\n",
    "dsDivide = ds1 / ds2\n",
    "\n",
    "print(\"Add two series:\")\n",
    "print(dsAdd)\n",
    "print(\"Subtract two series:\")\n",
    "print(dsSubtract)\n",
    "print(\"Multiply two series:\")\n",
    "print(dsMultiply)\n",
    "print(\"Divide two series:\")\n",
    "print(dsDivide)\n"
   ]
  },
  {
   "cell_type": "code",
   "execution_count": null,
   "metadata": {
    "tags": []
   },
   "outputs": [],
   "source": [
    "# 4. Write a Pandas program to compare the elements of the two Pandas Series\n",
    "\n",
    "ds1 = pd.Series([2,4,6,8,10])\n",
    "ds2 = pd.Series([1,3,5,7,9])\n",
    "\n",
    "print(\"Compare the elements of the said Series:\")\n",
    "print(\"Equals:\")\n",
    "print(ds1 == ds2)\n",
    "\n",
    "print(\"Not Equal:\")\n",
    "print(ds1 != ds2)\n",
    "\n",
    "print(\"Greater Than:\")\n",
    "print(ds1 > ds2)\n",
    "\n"
   ]
  },
  {
   "cell_type": "code",
   "execution_count": 18,
   "metadata": {},
   "outputs": [],
   "source": [
    "# 5. W"
   ]
  },
  {
   "cell_type": "code",
   "execution_count": null,
   "metadata": {},
   "outputs": [],
   "source": [
    "# 6. W"
   ]
  },
  {
   "cell_type": "code",
   "execution_count": null,
   "metadata": {},
   "outputs": [],
   "source": [
    "# 7. W"
   ]
  },
  {
   "cell_type": "code",
   "execution_count": null,
   "metadata": {},
   "outputs": [],
   "source": [
    "# 8. W"
   ]
  },
  {
   "cell_type": "code",
   "execution_count": null,
   "metadata": {},
   "outputs": [],
   "source": [
    "# 9. W"
   ]
  },
  {
   "cell_type": "code",
   "execution_count": null,
   "metadata": {},
   "outputs": [],
   "source": [
    "# 10. W"
   ]
  },
  {
   "cell_type": "code",
   "execution_count": null,
   "metadata": {},
   "outputs": [],
   "source": [
    "# 11. W"
   ]
  }
 ],
 "metadata": {
  "kernelspec": {
   "display_name": "Python 3",
   "language": "python",
   "name": "python3"
  },
  "language_info": {
   "codemirror_mode": {
    "name": "ipython",
    "version": 3
   },
   "file_extension": ".py",
   "mimetype": "text/x-python",
   "name": "python",
   "nbconvert_exporter": "python",
   "pygments_lexer": "ipython3",
   "version": "3.7.6"
  }
 },
 "nbformat": 4,
 "nbformat_minor": 2
}
